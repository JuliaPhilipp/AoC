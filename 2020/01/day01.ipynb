{
 "cells": [
  {
   "cell_type": "markdown",
   "id": "0990f9d8",
   "metadata": {},
   "source": [
    "### Part I"
   ]
  },
  {
   "cell_type": "code",
   "execution_count": 2,
   "id": "fe8bbc04",
   "metadata": {},
   "outputs": [],
   "source": [
    "# missing: read in function/ args\n",
    "using DelimitedFiles\n",
    "puzzle_input = readdlm(\"/Users/jphilipp/Documents/AoC/2020/01/puzzle_input.txt\", '\\t', Int, '\\n');"
   ]
  },
  {
   "cell_type": "code",
   "execution_count": 12,
   "id": "33cbe41a",
   "metadata": {
    "scrolled": false
   },
   "outputs": [
    {
     "name": "stdout",
     "output_type": "stream",
     "text": [
      "6341386PartI:878724\n",
      "1386634PartI:878724\n"
     ]
    }
   ],
   "source": [
    "for i in puzzle_input\n",
    "    # ideally, the second loop would start later? \n",
    "    # with both loops going through the whole file we're getting the same result twice\n",
    "    for k in puzzle_input\n",
    "        test_sum = i + k\n",
    "        if test_sum == 2020\n",
    "            test_product = i * k\n",
    "            print(\"PartI:\", test_product, \"\\n\")\n",
    "            break\n",
    "        end\n",
    "    end\n",
    "end"
   ]
  },
  {
   "cell_type": "code",
   "execution_count": 18,
   "id": "e9418693",
   "metadata": {},
   "outputs": [
    {
     "name": "stdout",
     "output_type": "stream",
     "text": [
      "Part 1: 878724"
     ]
    }
   ],
   "source": [
    "# better flow\n",
    "for i in puzzle_input, k in puzzle_input\n",
    "    test_sum = i + k\n",
    "    if test_sum == 2020\n",
    "        test_product = i*k\n",
    "        print(\"Part 1: \",test_product)\n",
    "        break\n",
    "    end\n",
    "end"
   ]
  },
  {
   "cell_type": "markdown",
   "id": "08da58fb",
   "metadata": {},
   "source": [
    "### Part II"
   ]
  },
  {
   "cell_type": "code",
   "execution_count": 6,
   "id": "21994e4c",
   "metadata": {},
   "outputs": [
    {
     "name": "stdout",
     "output_type": "stream",
     "text": [
      "Part II:201251610\n",
      "Part II:201251610\n",
      "Part II:201251610\n",
      "Part II:201251610\n",
      "Part II:201251610\n",
      "Part II:201251610\n"
     ]
    }
   ],
   "source": [
    "for i in puzzle_input\n",
    "    for k in puzzle_input\n",
    "        for j in puzzle_input\n",
    "            test_sum = i + k + j\n",
    "            if test_sum == 2020\n",
    "                test_product = i * k * j\n",
    "                print(\"Part II:\",test_product,\"\\n\")\n",
    "                break\n",
    "            end\n",
    "        end\n",
    "    end\n",
    "end"
   ]
  },
  {
   "cell_type": "code",
   "execution_count": 19,
   "id": "3a0a0326",
   "metadata": {},
   "outputs": [
    {
     "name": "stdout",
     "output_type": "stream",
     "text": [
      "Part 2: 201251610"
     ]
    }
   ],
   "source": [
    "# better flow\n",
    "for i in puzzle_input, j in puzzle_input, k in puzzle_input\n",
    "    test_sum = i+k+j\n",
    "    if test_sum == 2020\n",
    "        test_product = i*j*k\n",
    "        print(\"Part 2: \",test_product)\n",
    "        break\n",
    "    end\n",
    "end"
   ]
  }
 ],
 "metadata": {
  "kernelspec": {
   "display_name": "Julia 1.6.2",
   "language": "julia",
   "name": "julia-1.6"
  },
  "language_info": {
   "file_extension": ".jl",
   "mimetype": "application/julia",
   "name": "julia",
   "version": "1.6.2"
  }
 },
 "nbformat": 4,
 "nbformat_minor": 5
}
